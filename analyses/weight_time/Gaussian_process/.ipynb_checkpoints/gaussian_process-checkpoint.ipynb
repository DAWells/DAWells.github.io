{
 "cells": [
  {
   "cell_type": "code",
   "execution_count": 9,
   "metadata": {},
   "outputs": [
    {
     "data": {
      "text/plain": [
       "'/Users/davidwells/Dropbox/Statistics/weight_time/data'"
      ]
     },
     "execution_count": 9,
     "metadata": {},
     "output_type": "execute_result"
    }
   ],
   "source": [
    "#Set working directory\n",
    "\n",
    "os.chdir(\"/Users/davidwells/Dropbox/Statistics/weight_time/data\")\n",
    "os.getcwd()"
   ]
  },
  {
   "cell_type": "code",
   "execution_count": 67,
   "metadata": {},
   "outputs": [],
   "source": [
    "\n",
    "#Import libraries\n",
    "import os\n",
    "import numpy as np\n",
    "import pandas as pd\n",
    "pd.options.display.max_rows = 6\n",
    "pd.options.display.max_columns = 13\n",
    "\n",
    "import matplotlib.pyplot as plt"
   ]
  },
  {
   "cell_type": "code",
   "execution_count": 182,
   "metadata": {},
   "outputs": [],
   "source": [
    "################################\n",
    "#                              #\n",
    "#      Data preprocessing      #\n",
    "#                              #\n",
    "################################\n",
    "\n",
    "#Load data.\n",
    "data = pd.read_csv(\"rawdata/mongoose WEIGHTS.csv\")\n",
    "lhdata = pd.read_csv(\"rawdata/lhdata_march_2019.csv\")\n",
    "\n",
    "#Remove stupid named individuals.\n",
    "bad_id = [\"UM PUP\", \"UM PUP1\", \"UM PUP2\", \"UM PUP3\", \"UM AD\", \"UM F\", \"UM SUB\", \"UMSUB\", \"UNK\", \"\", \"BP375\", \"BP372\"]\n",
    "lhdata = lhdata[-lhdata.indiv.isin(bad_id)]\n",
    "\n",
    "#Format dates.\n",
    "data['date'] = pd.to_datetime(data['date'])\n",
    "lhdata['date'] = pd.to_datetime(lhdata['date'])\n",
    "\n",
    "#Sort by dates.\n",
    "data = data.sort_values(by=\"date\")\n",
    "\n",
    "#Get birthdays.\n",
    "born = lhdata[(lhdata.stend == \"START\") & (lhdata.code == \"BORN\")]\n",
    "\n",
    "#Check duplicates\n",
    "born[born.duplicated(subset=\"indiv\")]\n",
    "\n",
    "#Add age to data\n",
    "data = pd.merge(data, born[['indiv', 'date']], how=\"left\", on=\"indiv\")\n",
    "data.rename(columns={\"date_x\":\"date\",\"date_y\":\"dob\"}, inplace=True)\n",
    "data['age'] = data.date - data.dob\n",
    "#age as numeric\n",
    "data['agen'] = data['age'].dt.days\n",
    "\n",
    "#Get month for seasonal effect\n",
    "data['month'] = data.date.dt.strftime(\"%b\")\n",
    "\n",
    "#Remove NAs.\n",
    "data = data.dropna(subset=[\"weight\", \"age\"])\n",
    "\n",
    "#Remove outright outliers.\n",
    "data = data[(data.weight < 4000) & (data.age > pd.Timedelta(0))]\n",
    "\n",
    "#For the R functions, working for timeseries requires at most a single point per day per individual.\n",
    "#Therefore we have to remove any within day duplications of individuals.\n",
    "#Data single record\n",
    "\n",
    "iddate = data.duplicated(subset=['indiv','date'])\n",
    "dsr = data[-iddate]"
   ]
  },
  {
   "cell_type": "code",
   "execution_count": 183,
   "metadata": {},
   "outputs": [
    {
     "data": {
      "text/plain": [
       "<matplotlib.axes._subplots.AxesSubplot at 0x115f085f8>"
      ]
     },
     "execution_count": 183,
     "metadata": {},
     "output_type": "execute_result"
    },
    {
     "data": {
      "image/png": "[encoded data removed]",
      "text/plain": [
       "<Figure size 432x288 with 1 Axes>"
      ]
     },
     "metadata": {
      "needs_background": "light"
     },
     "output_type": "display_data"
    }
   ],
   "source": [
    "################################\n",
    "#                              #\n",
    "#       Data exploration       #\n",
    "#                              #\n",
    "################################\n",
    "data.plot.scatter(x='agen',y=\"weight\")\n"
   ]
  },
  {
   "cell_type": "code",
   "execution_count": 194,
   "metadata": {},
   "outputs": [
    {
     "data": {
      "text/html": [
       "<div>\n",
       "<style scoped>\n",
       "    .dataframe tbody tr th:only-of-type {\n",
       "        vertical-align: middle;\n",
       "    }\n",
       "\n",
       "    .dataframe tbody tr th {\n",
       "        vertical-align: top;\n",
       "    }\n",
       "\n",
       "    .dataframe thead th {\n",
       "        text-align: right;\n",
       "    }\n",
       "</style>\n",
       "<table border=\"1\" class=\"dataframe\">\n",
       "  <thead>\n",
       "    <tr style=\"text-align: right;\">\n",
       "      <th>sex</th>\n",
       "      <th>F</th>\n",
       "      <th>M</th>\n",
       "      <th>P</th>\n",
       "    </tr>\n",
       "    <tr>\n",
       "      <th>indiv</th>\n",
       "      <th></th>\n",
       "      <th></th>\n",
       "      <th></th>\n",
       "    </tr>\n",
       "  </thead>\n",
       "  <tbody>\n",
       "    <tr>\n",
       "      <th>10</th>\n",
       "      <td>0</td>\n",
       "      <td>659</td>\n",
       "      <td>0</td>\n",
       "    </tr>\n",
       "    <tr>\n",
       "      <th>17</th>\n",
       "      <td>0</td>\n",
       "      <td>2</td>\n",
       "      <td>0</td>\n",
       "    </tr>\n",
       "    <tr>\n",
       "      <th>1F</th>\n",
       "      <td>0</td>\n",
       "      <td>9</td>\n",
       "      <td>0</td>\n",
       "    </tr>\n",
       "    <tr>\n",
       "      <th>...</th>\n",
       "      <td>...</td>\n",
       "      <td>...</td>\n",
       "      <td>...</td>\n",
       "    </tr>\n",
       "    <tr>\n",
       "      <th>Z7</th>\n",
       "      <td>0</td>\n",
       "      <td>391</td>\n",
       "      <td>0</td>\n",
       "    </tr>\n",
       "    <tr>\n",
       "      <th>Z8</th>\n",
       "      <td>247</td>\n",
       "      <td>0</td>\n",
       "      <td>0</td>\n",
       "    </tr>\n",
       "    <tr>\n",
       "      <th>Z9</th>\n",
       "      <td>217</td>\n",
       "      <td>0</td>\n",
       "      <td>0</td>\n",
       "    </tr>\n",
       "  </tbody>\n",
       "</table>\n",
       "<p>1077 rows × 3 columns</p>\n",
       "</div>"
      ],
      "text/plain": [
       "sex      F    M  P\n",
       "indiv             \n",
       "10       0  659  0\n",
       "17       0    2  0\n",
       "1F       0    9  0\n",
       "...    ...  ... ..\n",
       "Z7       0  391  0\n",
       "Z8     247    0  0\n",
       "Z9     217    0  0\n",
       "\n",
       "[1077 rows x 3 columns]"
      ]
     },
     "execution_count": 194,
     "metadata": {},
     "output_type": "execute_result"
    }
   ],
   "source": [
    "pd.crosstab(data.indiv,data.sex)"
   ]
  },
  {
   "cell_type": "code",
   "execution_count": 179,
   "metadata": {},
   "outputs": [
    {
     "data": {
      "text/plain": [
       "0          386.0\n",
       "1          386.0\n",
       "2          386.0\n",
       "           ...  \n",
       "162763    2611.0\n",
       "162764    1523.0\n",
       "162765    1666.0\n",
       "Name: agen, Length: 161767, dtype: float64"
      ]
     },
     "execution_count": 179,
     "metadata": {},
     "output_type": "execute_result"
    }
   ],
   "source": [
    "data.agen"
   ]
  },
  {
   "cell_type": "code",
   "execution_count": null,
   "metadata": {},
   "outputs": [],
   "source": []
  }
 ],
 "metadata": {
  "kernelspec": {
   "display_name": "Python 3",
   "language": "python",
   "name": "python3"
  },
  "language_info": {
   "codemirror_mode": {
    "name": "ipython",
    "version": 3
   },
   "file_extension": ".py",
   "mimetype": "text/x-python",
   "name": "python",
   "nbconvert_exporter": "python",
   "pygments_lexer": "ipython3",
   "version": "3.7.3"
  }
 },
 "nbformat": 4,
 "nbformat_minor": 2
}
